{
 "cells": [
  {
   "cell_type": "markdown",
   "id": "edd69523",
   "metadata": {},
   "source": [
    "# ADT PROJECT\n",
    "# ADVANCED DETECTION & PREVENTION FOR SQL INJECTION\n",
    "# SQL IMMUNITES"
   ]
  },
  {
   "cell_type": "markdown",
   "id": "befe7238",
   "metadata": {},
   "source": [
    "## <i> 1. Importing the dependencies"
   ]
  },
  {
   "cell_type": "code",
   "execution_count": 1,
   "id": "5bb067f6",
   "metadata": {},
   "outputs": [],
   "source": [
    "# Importing necessary data manipulation tools\n",
    "\n",
    "import os # Importing os to access the contents of a system folder.\n",
    "import numpy as np  # To perform numerical operations on matrices and arrays.\n",
    "import pandas as pd  # To handle dataframes and retrieve data from files.\n",
    "import random # To randomize things\n",
    "import math # For calculation purposes\n",
    "import joblib # To save model weights\n",
    "import string"
   ]
  },
  {
   "cell_type": "code",
   "execution_count": 2,
   "id": "b8a85012",
   "metadata": {},
   "outputs": [],
   "source": [
    "# Importing the required data visualization tools\n",
    "\n",
    "import seaborn as sns # To interpret and visualise data in the form of |graphs and charts.\n",
    "import matplotlib.pyplot as plt # For advanced visualisation of data with extra customization"
   ]
  },
  {
   "cell_type": "code",
   "execution_count": 4,
   "id": "806f153c-e557-4fc2-a3bc-85760a950300",
   "metadata": {},
   "outputs": [],
   "source": [
    "#pip install xgboost"
   ]
  },
  {
   "cell_type": "code",
   "execution_count": 7,
   "id": "13b50574",
   "metadata": {},
   "outputs": [],
   "source": [
    "# Importing the necessary Machine Learning models from sklearn library\n",
    "\n",
    "import xgboost as xgb # XGBoost Classifier\n",
    "from sklearn.ensemble import AdaBoostClassifier # Ada Boost Classifier\n",
    "from sklearn.linear_model import LogisticRegression # Logistic Regression Model\n",
    "from sklearn.ensemble import RandomForestClassifier # Random Forest Classifier\n",
    "from sklearn.svm import SVC # Support Vector Machine \n",
    "from sklearn.naive_bayes import GaussianNB # Gaussian Naive Bayes Classifier"
   ]
  },
  {
   "cell_type": "code",
   "execution_count": 9,
   "id": "39ee6999",
   "metadata": {},
   "outputs": [],
   "source": [
    "# Importing necessary tools for pre-processing and post-processing data\n",
    "\n",
    "import nltk # Importing the Natural Language Tool Kit\n",
    "from nltk.tokenize import word_tokenize # To tokenize words\n",
    "from nltk.corpus import stopwords # Stop words in english from natural language tool kit\n",
    "from sklearn.model_selection import train_test_split # Train-test-split tool to split data\n",
    "from sklearn.metrics import confusion_matrix # Confusion matrix to calculate specificity & sensitivity\n",
    "from sklearn.metrics import accuracy_score, f1_score # Tools to calculate metrics\n",
    "from sklearn.metrics import roc_curve, auc # To plot roc curve and auc \n",
    "from sklearn.model_selection import learning_curve # To plot learning curve\n",
    "from sklearn.model_selection import validation_curve # To plot validation curve\n",
    "from sklearn.feature_extraction.text import CountVectorizer # To transform text data into feature vectors."
   ]
  },
  {
   "cell_type": "code",
   "execution_count": 11,
   "id": "84463bff-8db9-4d2b-9fef-3db0fe19c1c4",
   "metadata": {},
   "outputs": [],
   "source": [
    "#pip install tensorflow"
   ]
  },
  {
   "cell_type": "code",
   "execution_count": 13,
   "id": "ddead816",
   "metadata": {},
   "outputs": [],
   "source": [
    "# Importing the necessary deep learning packages\n",
    "\n",
    "import tensorflow as tf # tensorflow to employ deep learning techniques\n",
    "from tensorflow.keras import models, layers # models, layers to build our own neural networks\n",
    "from tensorflow import keras # keras for pre-processing functions\n",
    "from tensorflow.python.keras.layers import Dense, Flatten # Importing the dense, flatten layers\n",
    "from tensorflow.python.keras.layers import Embedding, Dropout # Importing the embedding, dropout layers\n",
    "from tensorflow.keras.preprocessing.text import Tokenizer # Importing the Tokenizer for tokenization\n",
    "from tensorflow.keras.preprocessing.sequence import pad_sequences # Importing pad_sequences module for padding sequences\n",
    "from tensorflow.keras.models import Sequential, model_from_json # Importing the Sequential model\n",
    "from tensorflow.keras import optimizers # Importing the optimizers\n",
    "from tensorflow.keras import backend as K # To clear sessions\n",
    "from tensorflow.keras.optimizers import Adam # Importing the Adam optimizer\n",
    "from tensorflow.keras.utils import to_categorical # to convert text values to categorical values"
   ]
  },
  {
   "cell_type": "code",
   "execution_count": 15,
   "id": "5cf96dc6",
   "metadata": {},
   "outputs": [],
   "source": [
    "# Suppressing any non-critical warnings to keep output clean\n",
    "\n",
    "import warnings # Importing the warnings module\n",
    "warnings.filterwarnings('ignore') # Ignoring the warnings"
   ]
  },
  {
   "cell_type": "code",
   "execution_count": 21,
   "id": "9732bae1-09a9-4e82-8881-39636f91dc5b",
   "metadata": {},
   "outputs": [
    {
     "name": "stdout",
     "output_type": "stream",
     "text": [
      "Requirement already satisfied: Crypto in d:\\ml\\lib\\site-packages (1.4.1)\n",
      "Requirement already satisfied: Naked in d:\\ml\\lib\\site-packages (from Crypto) (0.1.32)\n",
      "Requirement already satisfied: shellescape in d:\\ml\\lib\\site-packages (from Crypto) (3.8.1)\n",
      "Requirement already satisfied: requests in d:\\ml\\lib\\site-packages (from Naked->Crypto) (2.31.0)\n",
      "Requirement already satisfied: pyyaml in d:\\ml\\lib\\site-packages (from Naked->Crypto) (6.0.1)\n",
      "Requirement already satisfied: charset-normalizer<4,>=2 in d:\\ml\\lib\\site-packages (from requests->Naked->Crypto) (2.0.4)\n",
      "Requirement already satisfied: idna<4,>=2.5 in d:\\ml\\lib\\site-packages (from requests->Naked->Crypto) (3.4)\n",
      "Requirement already satisfied: urllib3<3,>=1.21.1 in d:\\ml\\lib\\site-packages (from requests->Naked->Crypto) (2.0.7)\n",
      "Requirement already satisfied: certifi>=2017.4.17 in d:\\ml\\lib\\site-packages (from requests->Naked->Crypto) (2024.6.2)\n",
      "Note: you may need to restart the kernel to use updated packages.\n"
     ]
    }
   ],
   "source": [
    "pip install Crypto"
   ]
  },
  {
   "cell_type": "code",
   "execution_count": 23,
   "id": "48174233",
   "metadata": {},
   "outputs": [
    {
     "ename": "ModuleNotFoundError",
     "evalue": "No module named 'Crypto'",
     "output_type": "error",
     "traceback": [
      "\u001b[1;31m---------------------------------------------------------------------------\u001b[0m",
      "\u001b[1;31mModuleNotFoundError\u001b[0m                       Traceback (most recent call last)",
      "Cell \u001b[1;32mIn[23], line 2\u001b[0m\n\u001b[0;32m      1\u001b[0m \u001b[38;5;66;03m# For encryption of data\u001b[39;00m\n\u001b[1;32m----> 2\u001b[0m \u001b[38;5;28;01mfrom\u001b[39;00m \u001b[38;5;21;01mCrypto\u001b[39;00m\u001b[38;5;21;01m.\u001b[39;00m\u001b[38;5;21;01mCipher\u001b[39;00m \u001b[38;5;28;01mimport\u001b[39;00m AES\n\u001b[0;32m      3\u001b[0m \u001b[38;5;28;01mfrom\u001b[39;00m \u001b[38;5;21;01mCrypto\u001b[39;00m\u001b[38;5;21;01m.\u001b[39;00m\u001b[38;5;21;01mUtil\u001b[39;00m\u001b[38;5;21;01m.\u001b[39;00m\u001b[38;5;21;01mPadding\u001b[39;00m \u001b[38;5;28;01mimport\u001b[39;00m pad, unpad\n\u001b[0;32m      4\u001b[0m \u001b[38;5;28;01mimport\u001b[39;00m \u001b[38;5;21;01mbase64\u001b[39;00m\n",
      "\u001b[1;31mModuleNotFoundError\u001b[0m: No module named 'Crypto'"
     ]
    }
   ],
   "source": [
    "# For encryption of data\n",
    "from Crypto.Cipher import AES\n",
    "from Crypto.Util.Padding import pad, unpad\n",
    "import base64"
   ]
  },
  {
   "cell_type": "markdown",
   "id": "37b1655a",
   "metadata": {},
   "source": [
    "## <i> 2. Reading the data"
   ]
  },
  {
   "cell_type": "code",
   "execution_count": 8,
   "id": "09d55c20",
   "metadata": {
    "scrolled": true
   },
   "outputs": [
    {
     "name": "stdout",
     "output_type": "stream",
     "text": [
      "                                                Sentence  Label\n",
      "0                                                    NaN      1\n",
      "1                          \" or pg_sleep ( __TIME__ ) --      1\n",
      "2      create user name identified by pass123 tempora...      1\n",
      "3                                                    %29      1\n",
      "4      ' AND 1 = utl_inaddr.get_host_address  (  (  S...      1\n",
      "...                                                  ...    ...\n",
      "33756                                             syrett      0\n",
      "33757                                   arrechea bellveh      0\n",
      "33758                                               1664      0\n",
      "33759                                           almaluez      0\n",
      "33760                                          f6lo40r06      0\n",
      "\n",
      "[33761 rows x 2 columns]\n"
     ]
    }
   ],
   "source": [
    "# Getting the data from the sqli dataset into a dataframe\n",
    "sql_df = pd.read_csv(\"C:\\Users\\USER\\OneDrive\\Desktop\\ADT\\Project\\archive (1)\\sql_injection_dataset.csv\", encoding='utf-16')\n",
    "print(sql_df)"
   ]
  },
  {
   "cell_type": "code",
   "execution_count": 9,
   "id": "d6c71a7c",
   "metadata": {},
   "outputs": [
    {
     "name": "stdout",
     "output_type": "stream",
     "text": [
      "                                            Sentence  Label\n",
      "0                                                NaN      1\n",
      "1                      \" or pg_sleep ( __TIME__ ) --      1\n",
      "2  create user name identified by pass123 tempora...      1\n",
      "3                                                %29      1\n",
      "4  ' AND 1 = utl_inaddr.get_host_address  (  (  S...      1\n",
      "               Sentence  Label\n",
      "33756            syrett      0\n",
      "33757  arrechea bellveh      0\n",
      "33758              1664      0\n",
      "33759          almaluez      0\n",
      "33760         f6lo40r06      0\n"
     ]
    }
   ],
   "source": [
    "# Printing the first five rows and last five rows of the data frame \n",
    "print(sql_df.head())\n",
    "print(sql_df.tail())"
   ]
  },
  {
   "cell_type": "code",
   "execution_count": 10,
   "id": "e07190fc",
   "metadata": {},
   "outputs": [
    {
     "data": {
      "text/plain": [
       "(33761, 2)"
      ]
     },
     "execution_count": 10,
     "metadata": {},
     "output_type": "execute_result"
    }
   ],
   "source": [
    "# Checking the nnumber of rows and columns.\n",
    "sql_df.shape"
   ]
  },
  {
   "cell_type": "code",
   "execution_count": 11,
   "id": "a1496f28",
   "metadata": {},
   "outputs": [
    {
     "data": {
      "text/plain": [
       "Sentence    object\n",
       "Label        int64\n",
       "dtype: object"
      ]
     },
     "execution_count": 11,
     "metadata": {},
     "output_type": "execute_result"
    }
   ],
   "source": [
    "# Getting the data types of the features in the data set.\n",
    "sql_df.dtypes"
   ]
  },
  {
   "cell_type": "code",
   "execution_count": 12,
   "id": "905cd22d",
   "metadata": {},
   "outputs": [
    {
     "data": {
      "text/html": [
       "<div>\n",
       "<style scoped>\n",
       "    .dataframe tbody tr th:only-of-type {\n",
       "        vertical-align: middle;\n",
       "    }\n",
       "\n",
       "    .dataframe tbody tr th {\n",
       "        vertical-align: top;\n",
       "    }\n",
       "\n",
       "    .dataframe thead th {\n",
       "        text-align: right;\n",
       "    }\n",
       "</style>\n",
       "<table border=\"1\" class=\"dataframe\">\n",
       "  <thead>\n",
       "    <tr style=\"text-align: right;\">\n",
       "      <th></th>\n",
       "      <th>Label</th>\n",
       "    </tr>\n",
       "  </thead>\n",
       "  <tbody>\n",
       "    <tr>\n",
       "      <th>count</th>\n",
       "      <td>33761.000000</td>\n",
       "    </tr>\n",
       "    <tr>\n",
       "      <th>mean</th>\n",
       "      <td>0.339326</td>\n",
       "    </tr>\n",
       "    <tr>\n",
       "      <th>std</th>\n",
       "      <td>0.473488</td>\n",
       "    </tr>\n",
       "    <tr>\n",
       "      <th>min</th>\n",
       "      <td>0.000000</td>\n",
       "    </tr>\n",
       "    <tr>\n",
       "      <th>25%</th>\n",
       "      <td>0.000000</td>\n",
       "    </tr>\n",
       "    <tr>\n",
       "      <th>50%</th>\n",
       "      <td>0.000000</td>\n",
       "    </tr>\n",
       "    <tr>\n",
       "      <th>75%</th>\n",
       "      <td>1.000000</td>\n",
       "    </tr>\n",
       "    <tr>\n",
       "      <th>max</th>\n",
       "      <td>1.000000</td>\n",
       "    </tr>\n",
       "  </tbody>\n",
       "</table>\n",
       "</div>"
      ],
      "text/plain": [
       "              Label\n",
       "count  33761.000000\n",
       "mean       0.339326\n",
       "std        0.473488\n",
       "min        0.000000\n",
       "25%        0.000000\n",
       "50%        0.000000\n",
       "75%        1.000000\n",
       "max        1.000000"
      ]
     },
     "execution_count": 12,
     "metadata": {},
     "output_type": "execute_result"
    }
   ],
   "source": [
    "# Getting the statistical measures for the data frame.\n",
    "sql_df.describe()"
   ]
  },
  {
   "cell_type": "markdown",
   "id": "7025f03e",
   "metadata": {},
   "source": [
    "## <i> 3. Pre-Processing the data"
   ]
  },
  {
   "cell_type": "code",
   "execution_count": 13,
   "id": "d4af3d67",
   "metadata": {},
   "outputs": [
    {
     "name": "stdout",
     "output_type": "stream",
     "text": [
      "nan\n",
      "nan\n",
      "nan\n",
      "nan\n"
     ]
    }
   ],
   "source": [
    "# Check for null values in the 'Sentence' column and print the result\n",
    "values = sql_df['Sentence']\n",
    "null_values = sql_df['Sentence'].isnull()\n",
    "for i in range(len(values)):\n",
    "    if null_values[i]==True:\n",
    "        print(sql_df['Sentence'][i])"
   ]
  },
  {
   "cell_type": "code",
   "execution_count": 14,
   "id": "e9a1ca13",
   "metadata": {},
   "outputs": [
    {
     "data": {
      "text/plain": [
       "Sentence    4\n",
       "Label       0\n",
       "dtype: int64"
      ]
     },
     "execution_count": 14,
     "metadata": {},
     "output_type": "execute_result"
    }
   ],
   "source": [
    "# Checking for the missing values in the data frame.\n",
    "sql_df.isnull().sum()"
   ]
  },
  {
   "cell_type": "code",
   "execution_count": 15,
   "id": "03668f09",
   "metadata": {},
   "outputs": [
    {
     "name": "stdout",
     "output_type": "stream",
     "text": [
      "                                                Sentence  Label\n",
      "1                          \" or pg_sleep ( __TIME__ ) --      1\n",
      "2      create user name identified by pass123 tempora...      1\n",
      "3                                                    %29      1\n",
      "4      ' AND 1 = utl_inaddr.get_host_address  (  (  S...      1\n",
      "5       select * from users where id = '1' or @ @1 = ...      1\n",
      "...                                                  ...    ...\n",
      "33756                                             syrett      0\n",
      "33757                                   arrechea bellveh      0\n",
      "33758                                               1664      0\n",
      "33759                                           almaluez      0\n",
      "33760                                          f6lo40r06      0\n",
      "\n",
      "[33757 rows x 2 columns]\n"
     ]
    }
   ],
   "source": [
    "# As Null Values are found we are dropping them. \n",
    "sql_df = sql_df.dropna(subset=['Sentence']) # Drop rows where 'Sentence' column has null values\n",
    "print(sql_df) # Print the cleaned DataFrame"
   ]
  },
  {
   "cell_type": "code",
   "execution_count": 16,
   "id": "2a36bbb4",
   "metadata": {},
   "outputs": [
    {
     "data": {
      "text/plain": [
       "Sentence    0\n",
       "Label       0\n",
       "dtype: int64"
      ]
     },
     "execution_count": 16,
     "metadata": {},
     "output_type": "execute_result"
    }
   ],
   "source": [
    "#Re-checking for the missing values in the data frame.\n",
    "sql_df.isnull().sum() # To assure null values are eliminated."
   ]
  },
  {
   "cell_type": "code",
   "execution_count": 17,
   "id": "a5dad735",
   "metadata": {},
   "outputs": [
    {
     "data": {
      "text/plain": [
       "(33757, 2)"
      ]
     },
     "execution_count": 17,
     "metadata": {},
     "output_type": "execute_result"
    }
   ],
   "source": [
    "# Getting the latest number of rows and columns of data frame.\n",
    "sql_df.shape"
   ]
  },
  {
   "cell_type": "code",
   "execution_count": 18,
   "id": "0368a5f7",
   "metadata": {},
   "outputs": [
    {
     "data": {
      "text/plain": [
       "30"
      ]
     },
     "execution_count": 18,
     "metadata": {},
     "output_type": "execute_result"
    }
   ],
   "source": [
    "# Checking for the duplicates in the data frame.\n",
    "sql_df.duplicated().sum()"
   ]
  },
  {
   "cell_type": "code",
   "execution_count": 19,
   "id": "7a236a99",
   "metadata": {},
   "outputs": [
    {
     "name": "stdout",
     "output_type": "stream",
     "text": [
      "                                                 Sentence  Label\n",
      "3952           1 or benchmark ( 10000000,MD5 ( 1  )  )  #      1\n",
      "3954                        \" or pg_sleep ( __TIME__ ) --      1\n",
      "3955                    1  )  )   or sleep ( __TIME__ ) #      1\n",
      "3957   1  )  )   or benchmark ( 10000000,MD5 ( 1  )  )  #      1\n",
      "3958                     \" )  or pg_sleep ( __TIME__ ) --      1\n",
      "3960                1  )  )   or pg_sleep ( __TIME__ ) --      1\n",
      "3961                        1 or pg_sleep ( __TIME__ ) --      1\n",
      "3964   \"  )  )   or benchmark ( 10000000,MD5 ( 1  )  )  #      1\n",
      "3965                benchmark ( 10000000,MD5 ( 1  )  )  #      1\n",
      "3966             \"  )  )  ;waitfor delay '0:0:__TIME__'--      1\n",
      "3967                                        # from wapiti      1\n",
      "3969           \" or benchmark ( 10000000,MD5 ( 1  )  )  #      1\n",
      "3970        1 )  or benchmark ( 10000000,MD5 ( 1  )  )  #      1\n",
      "3973                         1 )  or sleep ( __TIME__ ) #      1\n",
      "3974                     1 )  or pg_sleep ( __TIME__ ) --      1\n",
      "3976                     \";waitfor delay '0:0:__TIME__'--      1\n",
      "3977                      \" )  or sleep ( __TIME__ )  = \"      1\n",
      "3981        \" )  or benchmark ( 10000000,MD5 ( 1  )  )  #      1\n",
      "3982                             pg_sleep ( __TIME__ ) --      1\n",
      "3984                      ;waitfor delay '0:0:__TIME__'--      1\n",
      "3985                )  )  ;waitfor delay '0:0:__TIME__'--      1\n",
      "3988                    ) ;waitfor delay '0:0:__TIME__'--      1\n",
      "3989                  \" ) ;waitfor delay '0:0:__TIME__'--      1\n",
      "3990                            1 or sleep ( __TIME__ ) #      1\n",
      "3991                \"  )  )   or pg_sleep ( __TIME__ ) --      1\n",
      "3993                            \" or sleep ( __TIME__ ) #      1\n",
      "3994                 \"  )  )   or sleep ( __TIME__ )  = \"      1\n",
      "7362                                                    1      1\n",
      "8825                                                   )       1\n",
      "16119                                                  us      0\n"
     ]
    }
   ],
   "source": [
    "# Check for duplicate values in the data frame and print the result.\n",
    "df_values = sql_df\n",
    "duplicate_values = sql_df.duplicated()\n",
    "print(df_values[duplicate_values].to_string(max_rows=None))"
   ]
  },
  {
   "cell_type": "code",
   "execution_count": 20,
   "id": "3e6da684",
   "metadata": {},
   "outputs": [
    {
     "name": "stdout",
     "output_type": "stream",
     "text": [
      "                                                Sentence  Label\n",
      "1                          \" or pg_sleep ( __TIME__ ) --      1\n",
      "2      create user name identified by pass123 tempora...      1\n",
      "3                                                    %29      1\n",
      "4      ' AND 1 = utl_inaddr.get_host_address  (  (  S...      1\n",
      "5       select * from users where id = '1' or @ @1 = ...      1\n",
      "...                                                  ...    ...\n",
      "33756                                             syrett      0\n",
      "33757                                   arrechea bellveh      0\n",
      "33758                                               1664      0\n",
      "33759                                           almaluez      0\n",
      "33760                                          f6lo40r06      0\n",
      "\n",
      "[33727 rows x 2 columns]\n"
     ]
    }
   ],
   "source": [
    "# As duplicates are found we're dropping them.\n",
    "sql_df=sql_df.drop_duplicates() # Keeps the first occurence of each duplicate and deletes the rest.\n",
    "print(sql_df) # Print the cleaned DataFrame"
   ]
  },
  {
   "cell_type": "code",
   "execution_count": 21,
   "id": "d884189d",
   "metadata": {},
   "outputs": [
    {
     "data": {
      "text/plain": [
       "0"
      ]
     },
     "execution_count": 21,
     "metadata": {},
     "output_type": "execute_result"
    }
   ],
   "source": [
    "# Re-checking for the duplicates in the data frame.\n",
    "sql_df.duplicated().sum()"
   ]
  },
  {
   "cell_type": "code",
   "execution_count": 22,
   "id": "097c4111",
   "metadata": {},
   "outputs": [
    {
     "data": {
      "text/plain": [
       "(33727, 2)"
      ]
     },
     "execution_count": 22,
     "metadata": {},
     "output_type": "execute_result"
    }
   ],
   "source": [
    "# Getting the latest number of rows and columns of data frame.\n",
    "sql_df.shape"
   ]
  },
  {
   "cell_type": "code",
   "execution_count": 23,
   "id": "f63ffb87",
   "metadata": {},
   "outputs": [
    {
     "data": {
      "text/html": [
       "<div>\n",
       "<style scoped>\n",
       "    .dataframe tbody tr th:only-of-type {\n",
       "        vertical-align: middle;\n",
       "    }\n",
       "\n",
       "    .dataframe tbody tr th {\n",
       "        vertical-align: top;\n",
       "    }\n",
       "\n",
       "    .dataframe thead th {\n",
       "        text-align: right;\n",
       "    }\n",
       "</style>\n",
       "<table border=\"1\" class=\"dataframe\">\n",
       "  <thead>\n",
       "    <tr style=\"text-align: right;\">\n",
       "      <th></th>\n",
       "      <th>Label</th>\n",
       "    </tr>\n",
       "  </thead>\n",
       "  <tbody>\n",
       "    <tr>\n",
       "      <th>count</th>\n",
       "      <td>33727.000000</td>\n",
       "    </tr>\n",
       "    <tr>\n",
       "      <th>mean</th>\n",
       "      <td>0.338720</td>\n",
       "    </tr>\n",
       "    <tr>\n",
       "      <th>std</th>\n",
       "      <td>0.473281</td>\n",
       "    </tr>\n",
       "    <tr>\n",
       "      <th>min</th>\n",
       "      <td>0.000000</td>\n",
       "    </tr>\n",
       "    <tr>\n",
       "      <th>25%</th>\n",
       "      <td>0.000000</td>\n",
       "    </tr>\n",
       "    <tr>\n",
       "      <th>50%</th>\n",
       "      <td>0.000000</td>\n",
       "    </tr>\n",
       "    <tr>\n",
       "      <th>75%</th>\n",
       "      <td>1.000000</td>\n",
       "    </tr>\n",
       "    <tr>\n",
       "      <th>max</th>\n",
       "      <td>1.000000</td>\n",
       "    </tr>\n",
       "  </tbody>\n",
       "</table>\n",
       "</div>"
      ],
      "text/plain": [
       "              Label\n",
       "count  33727.000000\n",
       "mean       0.338720\n",
       "std        0.473281\n",
       "min        0.000000\n",
       "25%        0.000000\n",
       "50%        0.000000\n",
       "75%        1.000000\n",
       "max        1.000000"
      ]
     },
     "execution_count": 23,
     "metadata": {},
     "output_type": "execute_result"
    }
   ],
   "source": [
    "# Getting the updated statistis of the data.\n",
    "sql_df.describe()"
   ]
  },
  {
   "cell_type": "markdown",
   "id": "fdec5a90",
   "metadata": {},
   "source": [
    "## <i> 4. Visualising the data"
   ]
  },
  {
   "cell_type": "code",
   "execution_count": 24,
   "id": "7e9b1736",
   "metadata": {},
   "outputs": [
    {
     "data": {
      "image/png": "[encoded data removed]",
      "text/plain": [
       "<Figure size 720x432 with 1 Axes>"
      ]
     },
     "metadata": {},
     "output_type": "display_data"
    }
   ],
   "source": [
    "# Plotting Distributions.\n",
    "# Plotting a bar chart of the label column.\n",
    "sns.set()\n",
    "plt.figure(figsize=(10,6))\n",
    "sns.countplot(sql_df['Label'])\n",
    "plt.title('LABEL DISTRIBUTION')\n",
    "plt.xlabel('LABEL')\n",
    "plt.ylabel('COUNT')\n",
    "plt.show()"
   ]
  },
  {
   "cell_type": "code",
   "execution_count": 25,
   "id": "8996ef67",
   "metadata": {},
   "outputs": [
    {
     "data": {
      "image/png": "[encoded data removed]",
      "text/plain": [
       "<Figure size 720x576 with 1 Axes>"
      ]
     },
     "metadata": {},
     "output_type": "display_data"
    }
   ],
   "source": [
    "# Plotting a pie chart of Label column to understand the value distribution.\n",
    "sns.set()\n",
    "label_counts = sql_df['Label'].value_counts()\n",
    "label_percentages = label_counts / label_counts.sum() * 100\n",
    "plt.figure(figsize=(10, 8))\n",
    "plt.pie(label_counts, labels=label_counts.index, autopct='%1.1f%%', startangle=140)\n",
    "plt.legend([f'{label}: {percentage:.1f}%' for label, percentage in zip(label_counts.index, label_percentages)], \n",
    "           title=\"Labels\", loc=\"center left\", bbox_to_anchor=(1, 0.5))\n",
    "plt.title('LABEL DISTRIBUTION')\n",
    "plt.show()"
   ]
  },
  {
   "cell_type": "markdown",
   "id": "7780bafc",
   "metadata": {},
   "source": [
    "## <i> 5. Replicating the Existing Approach with Cleansed Data"
   ]
  },
  {
   "cell_type": "markdown",
   "id": "20f1b548",
   "metadata": {},
   "source": [
    "### a. Data Transformation for Model Predictions"
   ]
  },
  {
   "cell_type": "code",
   "execution_count": 26,
   "id": "aa379f48",
   "metadata": {},
   "outputs": [
    {
     "name": "stderr",
     "output_type": "stream",
     "text": [
      "[nltk_data] Downloading package stopwords to\n",
      "[nltk_data]     C:\\Users\\manoh\\AppData\\Roaming\\nltk_data...\n",
      "[nltk_data]   Package stopwords is already up-to-date!\n"
     ]
    },
    {
     "data": {
      "text/plain": [
       "True"
      ]
     },
     "execution_count": 26,
     "metadata": {},
     "output_type": "execute_result"
    }
   ],
   "source": [
    "nltk.download('stopwords') # Downloading the stop words"
   ]
  },
  {
   "cell_type": "code",
   "execution_count": 27,
   "id": "31b4f712",
   "metadata": {},
   "outputs": [],
   "source": [
    "# Seperating the data and label columns into X and y\n",
    "X = sql_df['Sentence'] # Getting the sentences as x data\n",
    "y = sql_df['Label'] # Getting the labels as y data"
   ]
  },
  {
   "cell_type": "code",
   "execution_count": 28,
   "id": "404a322b",
   "metadata": {},
   "outputs": [],
   "source": [
    "# Transforming the sql queries text into a series of matrix tokens.\n",
    "# Also filtering out stopwords to improve accuracy in predictions.\n",
    "vectorizer = CountVectorizer(min_df = 2, max_df = 0.8, stop_words = stopwords.words('english'))\n",
    "X = vectorizer.fit_transform(X.values.astype('U')).toarray()"
   ]
  },
  {
   "cell_type": "code",
   "execution_count": 29,
   "id": "44f015c2",
   "metadata": {},
   "outputs": [
    {
     "name": "stdout",
     "output_type": "stream",
     "text": [
      "(26981, 10319)\n",
      "(26981,)\n",
      "(6746, 10319)\n",
      "(6746,)\n"
     ]
    }
   ],
   "source": [
    "# Performing train test split on dataset\n",
    "# To seperate values into X_train, X_test, y_train, y_test\n",
    "X_train, X_test, y_train, y_test = train_test_split(X, y, test_size = 0.2, random_state=1)\n",
    "print(X_train.shape)\n",
    "print(y_train.shape)\n",
    "print(X_test.shape)\n",
    "print(y_test.shape)"
   ]
  },
  {
   "cell_type": "markdown",
   "id": "d5c2306b",
   "metadata": {},
   "source": [
    "### b. Helper Functions"
   ]
  },
  {
   "cell_type": "code",
   "execution_count": 30,
   "id": "80c7ff23",
   "metadata": {},
   "outputs": [],
   "source": [
    "# Function to run different machine learning classifiers on our dataset.\n",
    "def ml_classifier_runner(model, X_train, y_train, X_test, model_name):\n",
    "    \n",
    "    # Fitting the specific machine learning model to the training data\n",
    "    model.fit(X_train, y_train)\n",
    "    \n",
    "    # Predicting the y values based on the passed x test values to the model\n",
    "    y_pred = model.predict(X_test)\n",
    "    \n",
    "    # Save the model to a .pkl file\n",
    "    joblib_file = f\"{model_name}_model.pkl\"\n",
    "    joblib.dump(model, joblib_file)\n",
    "    \n",
    "    # Returning the predicted values to store them model-wise\n",
    "    return y_pred"
   ]
  },
  {
   "cell_type": "code",
   "execution_count": 31,
   "id": "7d58131e",
   "metadata": {},
   "outputs": [],
   "source": [
    "# Function to get different stats based on the machine learning classifier predictions.\n",
    "def ml_stats_helper(y_test, y_pred):\n",
    "    # Getting the confusion matrix values\n",
    "    confusion = confusion_matrix(y_test, y_pred)\n",
    "\n",
    "    # Seperating True Positives, True Negatives, False Positives & False Negatives\n",
    "    TP = confusion[1, 1]\n",
    "    TN = confusion[0, 0]\n",
    "    FP = confusion[0, 1]\n",
    "    FN = confusion[1, 0]\n",
    "\n",
    "    # Getting values of different stats based on the values of TP, TN, FP & FN\n",
    "    sensitivity = TP / float(FN + TP)\n",
    "    specificity = TN / (TN + FP)\n",
    "    Precision = TP / float(TP + FP)\n",
    "    Recall = TP / float(TP + FN)\n",
    "    F1 = 2*((Precision*Recall)/(Precision+Recall))\n",
    "    \n",
    "    # Returning all the stat values to store them model-wise.\n",
    "    return [accuracy_score(y_pred, y_test),f1_score(y_pred, y_test), sensitivity, specificity, Precision, Recall, F1]"
   ]
  },
  {
   "cell_type": "code",
   "execution_count": 32,
   "id": "be2ad0dc",
   "metadata": {},
   "outputs": [],
   "source": [
    "# Function to print calculated stats for each of the machine learning classifiers.\n",
    "def ml_stats_printer(model_name, model_stats_list ):\n",
    "    print(f\"Accuracy of {model_name} on test set : {model_stats_list[0]}\")\n",
    "    print(f\"F1 Score of {model_name} on test set : {model_stats_list[1]}\")\n",
    "    print(\"sensitivity value of \",model_name,\" =\",model_stats_list[2])\n",
    "    print(\"specificity value of \",model_name,\" =\",model_stats_list[3])\n",
    "    print (\"Precision value of \",model_name,\" =\",model_stats_list[4])\n",
    "    print (\"Recall value of \",model_name,\" =\", model_stats_list[5])\n",
    "    print (\"FMeasure value of \",model_name,\" =\", model_stats_list[6])\n",
    "    print(\"\\n\")"
   ]
  },
  {
   "cell_type": "code",
   "execution_count": 33,
   "id": "d390465e",
   "metadata": {},
   "outputs": [],
   "source": [
    "# Function to plot confusion matrix for each of the models\n",
    "def cf_matrix_plotter(model_name, y_test, model_preds):\n",
    "    # Compute confusion matrix\n",
    "    cm = confusion_matrix(y_test, model_preds)\n",
    "\n",
    "    # List of colors\n",
    "    colors = [plt.cm.Blues, plt.cm.Greens, plt.cm.Reds, plt.cm.Purples, plt.cm.Oranges]\n",
    "\n",
    "    # Randomly select an element from the list\n",
    "    random_choice = random.choice(colors)\n",
    "    cmap_val = random_choice\n",
    "    \n",
    "    # Plot confusion matrix\n",
    "    plt.figure(figsize=(8, 6))\n",
    "    plt.imshow(cm, interpolation='nearest', cmap=cmap_val)\n",
    "    plt.title(f'Confusion Matrix ~ {model_name}')\n",
    "    plt.colorbar()\n",
    "\n",
    "    # Add tick marks and labels\n",
    "    classes = ['Class 0', 'Class 1']\n",
    "    tick_marks = np.arange(len(classes))\n",
    "    plt.xticks(tick_marks, classes)\n",
    "    plt.yticks(tick_marks, classes)\n",
    "\n",
    "    # Add text annotations\n",
    "    thresh = cm.max() / 2.\n",
    "    for i in range(cm.shape[0]):\n",
    "        for j in range(cm.shape[1]):\n",
    "            plt.text(j, i, format(cm[i, j], 'd'),\n",
    "                     horizontalalignment=\"center\",\n",
    "                     color=\"white\" if cm[i, j] > thresh else \"black\")\n",
    "\n",
    "    plt.xlabel('Predicted label')\n",
    "    plt.ylabel('True label')\n",
    "    plt.tight_layout()\n",
    "    plt.show()"
   ]
  },
  {
   "cell_type": "code",
   "execution_count": 34,
   "id": "6e35ec57",
   "metadata": {},
   "outputs": [],
   "source": [
    "# Function to plot ROC Curve for each of the models\n",
    "def roc_plotter(model_name, y_test, model_preds):\n",
    "    # Compute ROC curve and ROC area\n",
    "    fpr, tpr, thresholds = roc_curve(y_test, model_preds)\n",
    "    roc_auc = auc(fpr, tpr)\n",
    "\n",
    "    # Plot ROC curve\n",
    "    plt.figure()\n",
    "    plt.plot(fpr, tpr, color='darkorange', lw=2, label='ROC curve (area = %0.2f)' % roc_auc)\n",
    "    plt.plot([0, 1], [0, 1], color='navy', lw=2, linestyle='--')\n",
    "    plt.xlim([0.0, 1.0])\n",
    "    plt.ylim([0.0, 1.05])\n",
    "    plt.xlabel('False Positive Rate')\n",
    "    plt.ylabel('True Positive Rate')\n",
    "    plt.title(f'Receiver Operating Characteristic Curve ~ {model_name}')\n",
    "    plt.legend(loc=\"lower right\")\n",
    "    plt.show()"
   ]
  },
  {
   "cell_type": "code",
   "execution_count": 35,
   "id": "080f0477",
   "metadata": {},
   "outputs": [],
   "source": [
    "def ml_model_loader(X_test, model_name):\n",
    "    # Load the model from the .pkl file\n",
    "    joblib_file = f\"{model_name}_model.pkl\"\n",
    "    model = joblib.load(joblib_file)\n",
    "\n",
    "    # Make predictions on the test set\n",
    "    y_pred = model.predict(X_test)\n",
    "    \n",
    "    # Returning the predicted values to store them model-wise\n",
    "    return y_pred"
   ]
  },
  {
   "cell_type": "markdown",
   "id": "ace2ec95",
   "metadata": {},
   "source": [
    "### c. Data Storage for Models"
   ]
  },
  {
   "cell_type": "code",
   "execution_count": 36,
   "id": "aaef5ab1",
   "metadata": {},
   "outputs": [],
   "source": [
    "# model_names stores the list of the names of ML Classifiers that are going to be used\n",
    "model_names = {'logreg':'Logistic Regression',\n",
    "               'adaboo':'AdaBoostClassifier',\n",
    "               'ranfor':'RandomForestClassifier',\n",
    "               'navbay':'GaussianNB',\n",
    "               'xgboos':'XGBClassifier',\n",
    "              }\n",
    "\n",
    "# model_dict stores the list of machine learning clasisfiers.\n",
    "model_dict = {'logreg':[LogisticRegression()],\n",
    "              'adaboo':[AdaBoostClassifier(n_estimators=100)],\n",
    "              'ranfor':[RandomForestClassifier(n_estimators=100)],\n",
    "              'navbay':[GaussianNB()],\n",
    "              'xgboos':[xgb.XGBClassifier(n_estimators=100)],\n",
    "              }\n",
    "\n",
    "# model_preds stores the list of y_pred values (predictions performed on X_test) for each of the models\n",
    "model_preds = { \n",
    "              }\n",
    "\n",
    "# model_stats stores the list of all the stats generated for each of the models like accuracy, f1 score etc\n",
    "model_stats = {  \n",
    "              }"
   ]
  },
  {
   "cell_type": "code",
   "execution_count": 37,
   "id": "89fee81d",
   "metadata": {},
   "outputs": [],
   "source": [
    "# Running the helper funcions for each of the models\n",
    "# To perform model training and to store predictions and stats\n",
    "for i in model_names.keys():\n",
    "    # For the first time run to save weights in pickle file\n",
    "    # model_preds[i] = ml_classifier_runner(model_dict[i][0], X_train, y_train, X_test, model_names[i])\n",
    "    \n",
    "    # For further runs to load weights from pickle files\n",
    "    model_preds[i] = ml_model_loader(X_test, model_names[i])\n",
    "    \n",
    "    # To get the stats of each model\n",
    "    model_stats[i] = ml_stats_helper(y_test, model_preds[i])"
   ]
  },
  {
   "cell_type": "markdown",
   "id": "fd742a95",
   "metadata": {},
   "source": [
    "### d. Results"
   ]
  },
  {
   "cell_type": "code",
   "execution_count": 38,
   "id": "94a738e9",
   "metadata": {},
   "outputs": [
    {
     "name": "stdout",
     "output_type": "stream",
     "text": [
      "Accuracy of Logistic Regression on test set : 0.9617551141417137\n",
      "F1 Score of Logistic Regression on test set : 0.9418132611637348\n",
      "sensitivity value of  Logistic Regression  = 0.8923076923076924\n",
      "specificity value of  Logistic Regression  = 0.9986382206082615\n",
      "Precision value of  Logistic Regression  = 0.997134670487106\n",
      "Recall value of  Logistic Regression  = 0.8923076923076924\n",
      "FMeasure value of  Logistic Regression  = 0.9418132611637348\n",
      "\n",
      "\n",
      "Accuracy of AdaBoostClassifier on test set : 0.9623480581085088\n",
      "F1 Score of AdaBoostClassifier on test set : 0.9428185502026115\n",
      "sensitivity value of  AdaBoostClassifier  = 0.8948717948717949\n",
      "specificity value of  AdaBoostClassifier  = 0.9981842941443486\n",
      "Precision value of  AdaBoostClassifier  = 0.9961941008563273\n",
      "Recall value of  AdaBoostClassifier  = 0.8948717948717949\n",
      "FMeasure value of  AdaBoostClassifier  = 0.9428185502026115\n",
      "\n",
      "\n",
      "Accuracy of RandomForestClassifier on test set : 0.9632374740587014\n",
      "F1 Score of RandomForestClassifier on test set : 0.9446428571428571\n",
      "sensitivity value of  RandomForestClassifier  = 0.9042735042735043\n",
      "specificity value of  RandomForestClassifier  = 0.9945528824330458\n",
      "Precision value of  RandomForestClassifier  = 0.9887850467289719\n",
      "Recall value of  RandomForestClassifier  = 0.9042735042735043\n",
      "FMeasure value of  RandomForestClassifier  = 0.9446428571428571\n",
      "\n",
      "\n",
      "Accuracy of GaussianNB on test set : 0.589386302994367\n",
      "F1 Score of GaussianNB on test set : 0.6253719231809576\n",
      "sensitivity value of  GaussianNB  = 0.9880341880341881\n",
      "specificity value of  GaussianNB  = 0.37766681797548796\n",
      "Precision value of  GaussianNB  = 0.45745943806885636\n",
      "Recall value of  GaussianNB  = 0.9880341880341881\n",
      "FMeasure value of  GaussianNB  = 0.6253719231809576\n",
      "\n",
      "\n",
      "Accuracy of XGBClassifier on test set : 0.9605692262081234\n",
      "F1 Score of XGBClassifier on test set : 0.9399819494584838\n",
      "sensitivity value of  XGBClassifier  = 0.8901709401709401\n",
      "specificity value of  XGBClassifier  = 0.9979573309123921\n",
      "Precision value of  XGBClassifier  = 0.995697896749522\n",
      "Recall value of  XGBClassifier  = 0.8901709401709401\n",
      "FMeasure value of  XGBClassifier  = 0.9399819494584838\n",
      "\n",
      "\n"
     ]
    }
   ],
   "source": [
    "# Running the helper funcions to print predictions and stats of the models\n",
    "for i in model_names.keys():\n",
    "    ml_stats_printer(model_names[i], model_stats[i])"
   ]
  },
  {
   "cell_type": "markdown",
   "id": "ae8d36d0",
   "metadata": {},
   "source": [
    "### e. Graphs"
   ]
  },
  {
   "cell_type": "code",
   "execution_count": 39,
   "id": "f989bccf",
   "metadata": {},
   "outputs": [
    {
     "name": "stdout",
     "output_type": "stream",
     "text": [
      "Confusion matrix for Logistic Regression model\n"
     ]
    },
    {
     "data": {
      "image/png": "[encoded data removed]",
      "text/plain": [
       "<Figure size 576x432 with 2 Axes>"
      ]
     },
     "metadata": {},
     "output_type": "display_data"
    }
   ],
   "source": [
    "# CONFUSION MATRIX\n",
    "\n",
    "# Running the helper funcion to print confusion matrix for each of the models\n",
    "print(f\"Confusion matrix for {model_names['logreg']} model\")\n",
    "cf_matrix_plotter(model_names['logreg'], y_test, model_preds['logreg'])"
   ]
  },
  {
   "cell_type": "code",
   "execution_count": 40,
   "id": "83660960",
   "metadata": {},
   "outputs": [
    {
     "name": "stdout",
     "output_type": "stream",
     "text": [
      "Confusion matrix for AdaBoostClassifier model\n"
     ]
    },
    {
     "data": {
      "image/png": "[encoded data removed]",
      "text/plain": [
       "<Figure size 576x432 with 2 Axes>"
      ]
     },
     "metadata": {},
     "output_type": "display_data"
    }
   ],
   "source": [
    "# Running the helper funcion to print confusion matrix for each of the models\n",
    "print(f\"Confusion matrix for {model_names['adaboo']} model\")\n",
    "cf_matrix_plotter(model_names['adaboo'], y_test, model_preds['adaboo'])"
   ]
  },
  {
   "cell_type": "code",
   "execution_count": 41,
   "id": "9a074b71",
   "metadata": {},
   "outputs": [
    {
     "name": "stdout",
     "output_type": "stream",
     "text": [
      "Confusion matrix for RandomForestClassifier model\n"
     ]
    },
    {
     "data": {
      "image/png": "[encoded data removed]",
      "text/plain": [
       "<Figure size 576x432 with 2 Axes>"
      ]
     },
     "metadata": {},
     "output_type": "display_data"
    }
   ],
   "source": [
    "# Running the helper funcion to print confusion matrix for each of the models\n",
    "print(f\"Confusion matrix for {model_names['ranfor']} model\")\n",
    "cf_matrix_plotter(model_names['ranfor'], y_test, model_preds['ranfor'])"
   ]
  },
  {
   "cell_type": "code",
   "execution_count": 42,
   "id": "1f5b4a69",
   "metadata": {},
   "outputs": [
    {
     "name": "stdout",
     "output_type": "stream",
     "text": [
      "Confusion matrix for GaussianNB model\n"
     ]
    },
    {
     "data": {
      "image/png": "[encoded data removed]",
      "text/plain": [
       "<Figure size 576x432 with 2 Axes>"
      ]
     },
     "metadata": {},
     "output_type": "display_data"
    }
   ],
   "source": [
    "# Running the helper funcion to print confusion matrix for each of the models\n",
    "print(f\"Confusion matrix for {model_names['navbay']} model\")\n",
    "cf_matrix_plotter(model_names['navbay'], y_test, model_preds['navbay'])"
   ]
  },
  {
   "cell_type": "code",
   "execution_count": 43,
   "id": "aeec530f",
   "metadata": {},
   "outputs": [
    {
     "name": "stdout",
     "output_type": "stream",
     "text": [
      "Confusion matrix for XGBClassifier model\n"
     ]
    },
    {
     "data": {
      "image/png": "[encoded data removed]",
      "text/plain": [
       "<Figure size 576x432 with 2 Axes>"
      ]
     },
     "metadata": {},
     "output_type": "display_data"
    }
   ],
   "source": [
    "# Running the helper funcion to print confusion matrix for each of the models\n",
    "print(f\"Confusion matrix for {model_names['xgboos']} model\")\n",
    "cf_matrix_plotter(model_names['xgboos'], y_test, model_preds['xgboos'])"
   ]
  },
  {
   "cell_type": "code",
   "execution_count": 44,
   "id": "eac3f008",
   "metadata": {},
   "outputs": [
    {
     "name": "stdout",
     "output_type": "stream",
     "text": [
      "ROC Curve for Logistic Regression model\n"
     ]
    },
    {
     "data": {
      "image/png": "[encoded data removed]",
      "text/plain": [
       "<Figure size 432x288 with 1 Axes>"
      ]
     },
     "metadata": {},
     "output_type": "display_data"
    }
   ],
   "source": [
    "# ROC CURVE\n",
    "print(f\"ROC Curve for {model_names['logreg']} model\")\n",
    "roc_plotter(model_names['logreg'], y_test, model_preds['logreg'])"
   ]
  },
  {
   "cell_type": "code",
   "execution_count": 45,
   "id": "21ea32a5",
   "metadata": {},
   "outputs": [
    {
     "name": "stdout",
     "output_type": "stream",
     "text": [
      "ROC Curve for AdaBoostClassifier model\n"
     ]
    },
    {
     "data": {
      "image/png": "[encoded data removed]",
      "text/plain": [
       "<Figure size 432x288 with 1 Axes>"
      ]
     },
     "metadata": {},
     "output_type": "display_data"
    }
   ],
   "source": [
    "print(f\"ROC Curve for {model_names['adaboo']} model\")\n",
    "roc_plotter(model_names['adaboo'], y_test, model_preds['adaboo'])"
   ]
  },
  {
   "cell_type": "code",
   "execution_count": 46,
   "id": "0951effd",
   "metadata": {},
   "outputs": [
    {
     "name": "stdout",
     "output_type": "stream",
     "text": [
      "ROC Curve for RandomForestClassifier model\n"
     ]
    },
    {
     "data": {
      "image/png": "[encoded data removed]",
      "text/plain": [
       "<Figure size 432x288 with 1 Axes>"
      ]
     },
     "metadata": {},
     "output_type": "display_data"
    }
   ],
   "source": [
    "print(f\"ROC Curve for {model_names['ranfor']} model\")\n",
    "roc_plotter(model_names['ranfor'], y_test, model_preds['ranfor'])"
   ]
  },
  {
   "cell_type": "code",
   "execution_count": 47,
   "id": "6cf8a660",
   "metadata": {},
   "outputs": [
    {
     "name": "stdout",
     "output_type": "stream",
     "text": [
      "ROC Curve for GaussianNB model\n"
     ]
    },
    {
     "data": {
      "image/png": "[encoded data removed]",
      "text/plain": [
       "<Figure size 432x288 with 1 Axes>"
      ]
     },
     "metadata": {},
     "output_type": "display_data"
    }
   ],
   "source": [
    "print(f\"ROC Curve for {model_names['navbay']} model\")\n",
    "roc_plotter(model_names['navbay'], y_test, model_preds['navbay'])"
   ]
  },
  {
   "cell_type": "code",
   "execution_count": 48,
   "id": "bca4e744",
   "metadata": {},
   "outputs": [
    {
     "name": "stdout",
     "output_type": "stream",
     "text": [
      "ROC Curve for XGBClassifier model\n"
     ]
    },
    {
     "data": {
      "image/png": "[encoded data removed]",
      "text/plain": [
       "<Figure size 432x288 with 1 Axes>"
      ]
     },
     "metadata": {},
     "output_type": "display_data"
    }
   ],
   "source": [
    "print(f\"ROC Curve for {model_names['xgboos']} model\")\n",
    "roc_plotter(model_names['xgboos'], y_test, model_preds['xgboos'])"
   ]
  },
  {
   "cell_type": "markdown",
   "id": "0a8f29f9",
   "metadata": {},
   "source": [
    "## <i> 6. Ensemble Model"
   ]
  },
  {
   "cell_type": "markdown",
   "id": "d65c9d9d",
   "metadata": {},
   "source": [
    "### Improvement in accuracy"
   ]
  },
  {
   "cell_type": "code",
   "execution_count": 49,
   "id": "3b40a417",
   "metadata": {},
   "outputs": [],
   "source": [
    "# Ensemble of models which got best sensitivity, specificity and accuracy values \n",
    "y_test_actual=y_test\n",
    "y_best_specificity=model_preds['logreg']\n",
    "y_best_sensitivity=model_preds['navbay']\n",
    "y_best_accuracy=model_preds['ranfor']"
   ]
  },
  {
   "cell_type": "code",
   "execution_count": 50,
   "id": "c0d40f06",
   "metadata": {},
   "outputs": [],
   "source": [
    "# Ensemble prediction\n",
    "y_pred_ensemble = y_best_specificity + y_best_sensitivity + y_best_accuracy\n",
    "for i in range(len(y_pred_ensemble)):\n",
    "    y_pred_ensemble[i]=1 if y_pred_ensemble[i]>1.5 else 0        "
   ]
  },
  {
   "cell_type": "code",
   "execution_count": 51,
   "id": "600132a5",
   "metadata": {},
   "outputs": [
    {
     "name": "stdout",
     "output_type": "stream",
     "text": [
      "Accuracy of Ensemble of Logistic Regression, RandomForest & NaiveBayes on test set : 0.965609249925882\n"
     ]
    }
   ],
   "source": [
    "# Ensemble accuracy\n",
    "print(f\"Accuracy of Ensemble of Logistic Regression, RandomForest & NaiveBayes on test set : {accuracy_score(y_test_actual, y_pred_ensemble)}\")"
   ]
  },
  {
   "cell_type": "markdown",
   "id": "2c854911",
   "metadata": {},
   "source": [
    "## <i> 7. Deep Learning Models"
   ]
  },
  {
   "cell_type": "markdown",
   "id": "1171d128",
   "metadata": {},
   "source": [
    "### Improvement in technology - CNNs on Text Data using 1D Convolutions"
   ]
  },
  {
   "cell_type": "markdown",
   "id": "438a3b3c",
   "metadata": {},
   "source": [
    "### Data Transformation for Model Predictions (Vectorization)"
   ]
  },
  {
   "cell_type": "code",
   "execution_count": 105,
   "id": "2aa84a2d",
   "metadata": {},
   "outputs": [],
   "source": [
    "# Seperating the data and label columns into X and y\n",
    "X = sql_df['Sentence'] # Getting the sentences as x data\n",
    "y = sql_df['Label'] # Getting the labels as y data"
   ]
  },
  {
   "cell_type": "code",
   "execution_count": 106,
   "id": "d195d2c9",
   "metadata": {},
   "outputs": [
    {
     "name": "stderr",
     "output_type": "stream",
     "text": [
      "[nltk_data] Downloading package stopwords to\n",
      "[nltk_data]     C:\\Users\\manoh\\AppData\\Roaming\\nltk_data...\n",
      "[nltk_data]   Package stopwords is already up-to-date!\n"
     ]
    }
   ],
   "source": [
    "import nltk\n",
    "nltk.download('stopwords')\n",
    "vectorizer = CountVectorizer(min_df = 2, max_df = 0.8, stop_words = stopwords.words('english'))\n",
    "X = vectorizer.fit_transform(X.values.astype('U')).toarray()"
   ]
  },
  {
   "cell_type": "code",
   "execution_count": 61,
   "id": "3d60515b",
   "metadata": {},
   "outputs": [],
   "source": [
    "# Splitting the available data into training and testing data seperately in 80%-20%\n",
    "# train_data, train_labels will have values for TRAINING data.\n",
    "# data_validation_set, labels_validation_set will have values for VALIDATING data.\n",
    "train_data, data_validation_set, train_labels, labels_validation_set = train_test_split(\n",
    "    X, y, test_size=0.2, random_state=50, stratify=y)"
   ]
  },
  {
   "cell_type": "code",
   "execution_count": 62,
   "id": "b1020989",
   "metadata": {},
   "outputs": [],
   "source": [
    "# Splitting the TESTING data into TESTING and VALIDATING data seperately in 50%-50%\n",
    "# i.e so that final ratio would be TRAINING (80%), VALIDATING (10%), TESTING (10%)\n",
    "# validation_images, validation_labels will have values for VALIDATING data.\n",
    "# test_images, test_labels will have values for TESTING data.\n",
    "validation_data, test_data, validation_labels, test_labels = train_test_split(\n",
    "    data_validation_set, labels_validation_set, test_size=0.5,random_state=50,stratify=labels_validation_set)"
   ]
  },
  {
   "cell_type": "code",
   "execution_count": 63,
   "id": "705e68b9",
   "metadata": {},
   "outputs": [
    {
     "name": "stdout",
     "output_type": "stream",
     "text": [
      "Train Data shape  (26981, 10319)\n",
      "Train Labels shape  (26981,)\n",
      "Validation Data shape  (3373, 10319)\n",
      "Validation Labels shape  (3373,)\n",
      "Test Data shape  (3373, 10319)\n",
      "Test Labels shape  (3373,)\n"
     ]
    }
   ],
   "source": [
    "# Printing the shapes of Train, Test and Validation datasets\n",
    "print(\"Train Data shape \",train_data.shape)\n",
    "print(\"Train Labels shape \",train_labels.shape)\n",
    "print(\"Validation Data shape \",validation_data.shape)\n",
    "print(\"Validation Labels shape \",validation_labels.shape)\n",
    "print(\"Test Data shape \",test_data.shape)\n",
    "print(\"Test Labels shape \",test_labels.shape)"
   ]
  },
  {
   "cell_type": "code",
   "execution_count": 64,
   "id": "9277f32e",
   "metadata": {},
   "outputs": [],
   "source": [
    "train_data = train_data.reshape(-1, 1, 10319)\n",
    "validation_data = validation_data.reshape(-1, 1, 10319)\n",
    "test_data = test_data.reshape(-1, 1, 10319)"
   ]
  },
  {
   "cell_type": "code",
   "execution_count": 65,
   "id": "d0233e3d",
   "metadata": {},
   "outputs": [],
   "source": [
    "model = models.Sequential()\n",
    "model.add(layers.Conv1D(32, 1, activation = 'relu', input_shape = (1,10319)))\n",
    "model.add(layers.Conv1D(32, 1, activation = 'relu'))\n",
    "model.add(layers.Flatten())\n",
    "model.add(layers.Dense(1, activation = 'sigmoid'))"
   ]
  },
  {
   "cell_type": "code",
   "execution_count": 66,
   "id": "e7e2a9fa",
   "metadata": {},
   "outputs": [
    {
     "name": "stdout",
     "output_type": "stream",
     "text": [
      "Model: \"sequential\"\n",
      "_________________________________________________________________\n",
      " Layer (type)                Output Shape              Param #   \n",
      "=================================================================\n",
      " conv1d (Conv1D)             (None, 1, 32)             330240    \n",
      "                                                                 \n",
      " conv1d_1 (Conv1D)           (None, 1, 32)             1056      \n",
      "                                                                 \n",
      " flatten (Flatten)           (None, 32)                0         \n",
      "                                                                 \n",
      " dense (Dense)               (None, 1)                 33        \n",
      "                                                                 \n",
      "=================================================================\n",
      "Total params: 331,329\n",
      "Trainable params: 331,329\n",
      "Non-trainable params: 0\n",
      "_________________________________________________________________\n"
     ]
    }
   ],
   "source": [
    "model.summary()"
   ]
  },
  {
   "cell_type": "code",
   "execution_count": 67,
   "id": "52d6bca6",
   "metadata": {},
   "outputs": [],
   "source": [
    "model.compile(optimizer = Adam(lr=0.001), loss = 'binary_crossentropy', metrics = ['accuracy'])"
   ]
  },
  {
   "cell_type": "code",
   "execution_count": 68,
   "id": "146eaf5b",
   "metadata": {},
   "outputs": [
    {
     "name": "stdout",
     "output_type": "stream",
     "text": [
      "Epoch 1/50\n",
      "211/211 [==============================] - 7s 16ms/step - loss: 0.2963 - accuracy: 0.9464 - val_loss: 0.1266 - val_accuracy: 0.9600\n",
      "Epoch 2/50\n",
      "211/211 [==============================] - 3s 12ms/step - loss: 0.1037 - accuracy: 0.9659 - val_loss: 0.1071 - val_accuracy: 0.9692\n",
      "Epoch 3/50\n",
      "211/211 [==============================] - 3s 12ms/step - loss: 0.0692 - accuracy: 0.9825 - val_loss: 0.1030 - val_accuracy: 0.9698\n",
      "Epoch 4/50\n",
      "211/211 [==============================] - 3s 12ms/step - loss: 0.0609 - accuracy: 0.9864 - val_loss: 0.1063 - val_accuracy: 0.9686\n",
      "Epoch 5/50\n",
      "211/211 [==============================] - 3s 12ms/step - loss: 0.0594 - accuracy: 0.9867 - val_loss: 0.1054 - val_accuracy: 0.9698\n",
      "Epoch 6/50\n",
      "211/211 [==============================] - 3s 13ms/step - loss: 0.0585 - accuracy: 0.9866 - val_loss: 0.1054 - val_accuracy: 0.9706\n",
      "Epoch 7/50\n",
      "211/211 [==============================] - 3s 13ms/step - loss: 0.0587 - accuracy: 0.9864 - val_loss: 0.1103 - val_accuracy: 0.9692\n",
      "Epoch 8/50\n",
      "211/211 [==============================] - 3s 13ms/step - loss: 0.0584 - accuracy: 0.9865 - val_loss: 0.1129 - val_accuracy: 0.9692\n",
      "Epoch 9/50\n",
      "211/211 [==============================] - 3s 14ms/step - loss: 0.0582 - accuracy: 0.9865 - val_loss: 0.1177 - val_accuracy: 0.9680\n",
      "Epoch 10/50\n",
      "211/211 [==============================] - 3s 12ms/step - loss: 0.0580 - accuracy: 0.9866 - val_loss: 0.1133 - val_accuracy: 0.9692\n",
      "Epoch 11/50\n",
      "211/211 [==============================] - 3s 12ms/step - loss: 0.0580 - accuracy: 0.9866 - val_loss: 0.1186 - val_accuracy: 0.9677\n",
      "Epoch 12/50\n",
      "211/211 [==============================] - 3s 12ms/step - loss: 0.0578 - accuracy: 0.9869 - val_loss: 0.1181 - val_accuracy: 0.9683\n",
      "Epoch 13/50\n",
      "211/211 [==============================] - 3s 12ms/step - loss: 0.0577 - accuracy: 0.9867 - val_loss: 0.1213 - val_accuracy: 0.9683\n",
      "Epoch 14/50\n",
      "211/211 [==============================] - 3s 12ms/step - loss: 0.0578 - accuracy: 0.9867 - val_loss: 0.1267 - val_accuracy: 0.9671\n",
      "Epoch 15/50\n",
      "211/211 [==============================] - 3s 12ms/step - loss: 0.0576 - accuracy: 0.9869 - val_loss: 0.1275 - val_accuracy: 0.9671\n",
      "Epoch 16/50\n",
      "211/211 [==============================] - 3s 12ms/step - loss: 0.0574 - accuracy: 0.9870 - val_loss: 0.1267 - val_accuracy: 0.9674\n",
      "Epoch 17/50\n",
      "211/211 [==============================] - 3s 12ms/step - loss: 0.0574 - accuracy: 0.9870 - val_loss: 0.1317 - val_accuracy: 0.9671\n",
      "Epoch 18/50\n",
      "211/211 [==============================] - 3s 12ms/step - loss: 0.0575 - accuracy: 0.9870 - val_loss: 0.1301 - val_accuracy: 0.9674\n",
      "Epoch 19/50\n",
      "211/211 [==============================] - 3s 12ms/step - loss: 0.0574 - accuracy: 0.9868 - val_loss: 0.1327 - val_accuracy: 0.9668\n",
      "Epoch 20/50\n",
      "211/211 [==============================] - 3s 12ms/step - loss: 0.0572 - accuracy: 0.9868 - val_loss: 0.1330 - val_accuracy: 0.9671\n",
      "Epoch 21/50\n",
      "211/211 [==============================] - 3s 12ms/step - loss: 0.0572 - accuracy: 0.9868 - val_loss: 0.1386 - val_accuracy: 0.9662\n",
      "Epoch 22/50\n",
      "211/211 [==============================] - 2s 12ms/step - loss: 0.0573 - accuracy: 0.9870 - val_loss: 0.1390 - val_accuracy: 0.9656\n",
      "Epoch 23/50\n",
      "211/211 [==============================] - 3s 12ms/step - loss: 0.0575 - accuracy: 0.9869 - val_loss: 0.1383 - val_accuracy: 0.9659\n",
      "Epoch 24/50\n",
      "211/211 [==============================] - 3s 12ms/step - loss: 0.0574 - accuracy: 0.9869 - val_loss: 0.1370 - val_accuracy: 0.9668\n",
      "Epoch 25/50\n",
      "211/211 [==============================] - 3s 13ms/step - loss: 0.0572 - accuracy: 0.9869 - val_loss: 0.1395 - val_accuracy: 0.9653\n",
      "Epoch 26/50\n",
      "211/211 [==============================] - 2s 12ms/step - loss: 0.0572 - accuracy: 0.9869 - val_loss: 0.1465 - val_accuracy: 0.9653\n",
      "Epoch 27/50\n",
      "211/211 [==============================] - 3s 14ms/step - loss: 0.0573 - accuracy: 0.9870 - val_loss: 0.1481 - val_accuracy: 0.9650\n",
      "Epoch 28/50\n",
      "211/211 [==============================] - 3s 15ms/step - loss: 0.0572 - accuracy: 0.9870 - val_loss: 0.1421 - val_accuracy: 0.9656\n",
      "Epoch 29/50\n",
      "211/211 [==============================] - 3s 12ms/step - loss: 0.0569 - accuracy: 0.9870 - val_loss: 0.1472 - val_accuracy: 0.9650\n",
      "Epoch 30/50\n",
      "211/211 [==============================] - 2s 12ms/step - loss: 0.0571 - accuracy: 0.9868 - val_loss: 0.1489 - val_accuracy: 0.9647\n",
      "Epoch 31/50\n",
      "211/211 [==============================] - 3s 12ms/step - loss: 0.0571 - accuracy: 0.9870 - val_loss: 0.1506 - val_accuracy: 0.9644\n",
      "Epoch 32/50\n",
      "211/211 [==============================] - 3s 12ms/step - loss: 0.0575 - accuracy: 0.9869 - val_loss: 0.1492 - val_accuracy: 0.9650\n",
      "Epoch 33/50\n",
      "211/211 [==============================] - 3s 12ms/step - loss: 0.0571 - accuracy: 0.9870 - val_loss: 0.1467 - val_accuracy: 0.9653\n",
      "Epoch 34/50\n",
      "211/211 [==============================] - 3s 12ms/step - loss: 0.0570 - accuracy: 0.9868 - val_loss: 0.1544 - val_accuracy: 0.9638\n",
      "Epoch 35/50\n",
      "211/211 [==============================] - 3s 12ms/step - loss: 0.0569 - accuracy: 0.9868 - val_loss: 0.1528 - val_accuracy: 0.9638\n",
      "Epoch 36/50\n",
      "211/211 [==============================] - 3s 12ms/step - loss: 0.0566 - accuracy: 0.9870 - val_loss: 0.1544 - val_accuracy: 0.9638\n",
      "Epoch 37/50\n",
      "211/211 [==============================] - 3s 14ms/step - loss: 0.0566 - accuracy: 0.9869 - val_loss: 0.1542 - val_accuracy: 0.9638\n",
      "Epoch 38/50\n",
      "211/211 [==============================] - 3s 14ms/step - loss: 0.0567 - accuracy: 0.9870 - val_loss: 0.1539 - val_accuracy: 0.9650\n",
      "Epoch 39/50\n",
      "211/211 [==============================] - 3s 12ms/step - loss: 0.0569 - accuracy: 0.9870 - val_loss: 0.1582 - val_accuracy: 0.9644\n",
      "Epoch 40/50\n",
      "211/211 [==============================] - 3s 12ms/step - loss: 0.0568 - accuracy: 0.9871 - val_loss: 0.1557 - val_accuracy: 0.9650\n",
      "Epoch 41/50\n",
      "211/211 [==============================] - 2s 12ms/step - loss: 0.0568 - accuracy: 0.9870 - val_loss: 0.1585 - val_accuracy: 0.9647\n",
      "Epoch 42/50\n",
      "211/211 [==============================] - 3s 13ms/step - loss: 0.0566 - accuracy: 0.9870 - val_loss: 0.1557 - val_accuracy: 0.9650\n",
      "Epoch 43/50\n",
      "211/211 [==============================] - 3s 12ms/step - loss: 0.0568 - accuracy: 0.9870 - val_loss: 0.1612 - val_accuracy: 0.9647\n",
      "Epoch 44/50\n",
      "211/211 [==============================] - 3s 12ms/step - loss: 0.0568 - accuracy: 0.9868 - val_loss: 0.1592 - val_accuracy: 0.9650\n",
      "Epoch 45/50\n",
      "211/211 [==============================] - 3s 12ms/step - loss: 0.0568 - accuracy: 0.9870 - val_loss: 0.1704 - val_accuracy: 0.9644\n",
      "Epoch 46/50\n",
      "211/211 [==============================] - 3s 12ms/step - loss: 0.0568 - accuracy: 0.9870 - val_loss: 0.1637 - val_accuracy: 0.9647\n",
      "Epoch 47/50\n",
      "211/211 [==============================] - 3s 12ms/step - loss: 0.0565 - accuracy: 0.9870 - val_loss: 0.1630 - val_accuracy: 0.9653\n",
      "Epoch 48/50\n",
      "211/211 [==============================] - 3s 12ms/step - loss: 0.0566 - accuracy: 0.9870 - val_loss: 0.1633 - val_accuracy: 0.9653\n",
      "Epoch 49/50\n",
      "211/211 [==============================] - 2s 12ms/step - loss: 0.0566 - accuracy: 0.9871 - val_loss: 0.1682 - val_accuracy: 0.9653\n",
      "Epoch 50/50\n",
      "211/211 [==============================] - 3s 12ms/step - loss: 0.0565 - accuracy: 0.9870 - val_loss: 0.1641 - val_accuracy: 0.9656\n"
     ]
    }
   ],
   "source": [
    "history = model.fit(train_data, train_labels, validation_data=(validation_data, validation_labels), epochs=50, batch_size=128)"
   ]
  },
  {
   "cell_type": "code",
   "execution_count": 69,
   "id": "59d1d1e7",
   "metadata": {},
   "outputs": [
    {
     "name": "stdout",
     "output_type": "stream",
     "text": [
      "106/106 [==============================] - 1s 6ms/step\n",
      "Accuracy of CNN on test set : 0.9635339460420991\n",
      "F1 Score of CNN on test set : 0.9442176870748299\n"
     ]
    }
   ],
   "source": [
    "y_pred = model.predict(test_data).flatten()\n",
    "# y_pred1 = [1 if x>-0.5 else 0 for x in y_pred]\n",
    "\n",
    "y_pred = np.round(y_pred)\n",
    "print(f\"Accuracy of CNN on test set : {accuracy_score(y_pred, test_labels)}\")\n",
    "print(f\"F1 Score of CNN on test set : {f1_score(y_pred, test_labels)}\")"
   ]
  },
  {
   "cell_type": "markdown",
   "id": "4d2638a1",
   "metadata": {},
   "source": [
    "**ENCRYPTION ALGORITHMS**"
   ]
  },
  {
   "cell_type": "markdown",
   "id": "bb705c86",
   "metadata": {},
   "source": [
    "**ADVANCED ENCRYPTION STANDARD**"
   ]
  },
  {
   "cell_type": "markdown",
   "id": "ea976b8f",
   "metadata": {},
   "source": [
    "**HELPER FUNCTIONS**"
   ]
  },
  {
   "cell_type": "code",
   "execution_count": 52,
   "id": "703a54c7",
   "metadata": {},
   "outputs": [],
   "source": [
    "def encrypt(data, key, key_length):\n",
    "    # Ensure the key is 32 bytes for AES-256\n",
    "    if len(key) < key_length:\n",
    "        key = key.ljust(key_length)[:key_length]\n",
    "    elif len(key) > key_length:\n",
    "        key = key[:key_length]\n",
    "    \n",
    "    cipher = AES.new(key.encode('utf-8'), AES.MODE_CBC)\n",
    "    ct_bytes = cipher.encrypt(pad(data.encode('utf-8'), AES.block_size))\n",
    "    iv = base64.b64encode(cipher.iv).decode('utf-8')\n",
    "    ct = base64.b64encode(ct_bytes).decode('utf-8')\n",
    "    return iv + ct"
   ]
  },
  {
   "cell_type": "code",
   "execution_count": 53,
   "id": "43d7e111",
   "metadata": {},
   "outputs": [],
   "source": [
    "def decrypt(encrypted_data, key, key_length):\n",
    "    # Ensure the key is 32 bytes for AES-256\n",
    "    if len(key) < key_length:\n",
    "        key = key.ljust(32)[:key_length]\n",
    "    elif len(key) > key_length:\n",
    "        key = key[:key_length]\n",
    "\n",
    "    iv = base64.b64decode(encrypted_data[:24])\n",
    "    ct = base64.b64decode(encrypted_data[24:])\n",
    "    cipher = AES.new(key.encode('utf-8'), AES.MODE_CBC, iv)\n",
    "    pt = unpad(cipher.decrypt(ct), AES.block_size)\n",
    "    return pt.decode('utf-8')"
   ]
  },
  {
   "cell_type": "markdown",
   "id": "ef5fccf9",
   "metadata": {},
   "source": [
    "**SAMPLE ENCRYPTION**"
   ]
  },
  {
   "cell_type": "code",
   "execution_count": 54,
   "id": "eb83a877",
   "metadata": {},
   "outputs": [],
   "source": [
    "# Sample input for key and data\n",
    "# You should use 32 byte key for AES 256 encryption\n",
    "# You should use 16 byte key for AES 128 encryption\n",
    "\n",
    "key_length = 16\n",
    "key = 'This is a key123'  # 32 - byte : This is a very secure key for AES-256 encryption  \n",
    "data = \"Sensitive data\""
   ]
  },
  {
   "cell_type": "code",
   "execution_count": 55,
   "id": "c872c9ec",
   "metadata": {},
   "outputs": [
    {
     "name": "stdout",
     "output_type": "stream",
     "text": [
      "This is key: This is a key123\n",
      "This is data: Sensitive data\n"
     ]
    }
   ],
   "source": [
    "# How data looks to the hacker (without encryption)\n",
    "print(f\"This is key: {key}\",f\"This is data: {data}\",sep=\"\\n\")"
   ]
  },
  {
   "cell_type": "code",
   "execution_count": 56,
   "id": "67d169cd",
   "metadata": {},
   "outputs": [
    {
     "name": "stdout",
     "output_type": "stream",
     "text": [
      "Encrypted: Z/x+uLhkcb/JyXOhjrG+SQ==ciJ8t6niN+UuA2IwqTW9mA==\n"
     ]
    }
   ],
   "source": [
    "# Encrypting the data \n",
    "encrypted_data = encrypt(data, key, key_length)\n",
    "\n",
    "# How data looks to the hacker (with encryption)\n",
    "print(f\"Encrypted: {encrypted_data}\")"
   ]
  },
  {
   "cell_type": "code",
   "execution_count": 57,
   "id": "253c6eeb",
   "metadata": {},
   "outputs": [
    {
     "name": "stdout",
     "output_type": "stream",
     "text": [
      "Decrypted: Sensitive data\n"
     ]
    }
   ],
   "source": [
    "# Decrypting the data\n",
    "decrypted_data = decrypt(encrypted_data, key, key_length)\n",
    "\n",
    "# How data looks to the admin (after decryption)\n",
    "print(f\"Decrypted: {decrypted_data}\")"
   ]
  },
  {
   "cell_type": "markdown",
   "id": "2deae832",
   "metadata": {},
   "source": [
    "**TESTING MODULE**"
   ]
  },
  {
   "cell_type": "code",
   "execution_count": 75,
   "id": "23bfc65a",
   "metadata": {},
   "outputs": [],
   "source": [
    "def ml_model_predicter(X_test):\n",
    "    # logreg\n",
    "    # Load the model from the .pkl file\n",
    "    joblib_file = f\"{model_names['logreg']}_model.pkl\"\n",
    "    model = joblib.load(joblib_file)\n",
    "    y_pred_logreg = model.predict(X_test)\n",
    "    \n",
    "    # ranfor\n",
    "    joblib_file = f\"{model_names['ranfor']}_model.pkl\"\n",
    "    model = joblib.load(joblib_file)\n",
    "    y_pred_ranfor = model.predict(X_test)\n",
    "    \n",
    "    # navbay\n",
    "    joblib_file = f\"{model_names['navbay']}_model.pkl\"\n",
    "    model = joblib.load(joblib_file)\n",
    "    y_pred_navbay = model.predict(X_test)\n",
    "    \n",
    "    y_pred_average = y_pred_logreg + y_pred_ranfor + y_pred_navbay\n",
    "    y_pred_ensemble = 1 if y_pred_average > 1.5 else 0       \n",
    "    # Returning the predicted values to store them model-wise\n",
    "    \n",
    "    if y_pred_ensemble==1: \n",
    "        print(\"SQL INJECTION THREAT\")\n",
    "        return 1\n",
    "    else: \n",
    "        print(\"Genuine Password\")\n",
    "        return 0    "
   ]
  },
  {
   "cell_type": "code",
   "execution_count": 76,
   "id": "40cd009c",
   "metadata": {},
   "outputs": [],
   "source": [
    "def randomizer(user_name, user_password, key_length):\n",
    "    # Combine characters from user_name and password\n",
    "    combined_chars = user_name + user_password\n",
    "\n",
    "    # Generate a random string of length key_length\n",
    "    random_string = ''.join(random.choices(combined_chars, k=key_length))\n",
    "\n",
    "    print(\"Your Key (admin privileges):\", random_string)\n",
    "    return random_string"
   ]
  },
  {
   "cell_type": "code",
   "execution_count": 77,
   "id": "21840c01",
   "metadata": {},
   "outputs": [],
   "source": [
    "def encryptor(prediction_value, user_name, user_password, key_length):\n",
    "    if prediction_value==1:\n",
    "        print(\"Threat possibility, encrypting the password\")\n",
    "        filter_key = randomizer(user_name, user_password, key_length)\n",
    "        user_password = encrypt(user_password, filter_key, key_length)\n",
    "        print(f\"Newly encrypted password: {user_password}\")\n",
    "    else:\n",
    "        print(\"No threat so proceeding with password storage\")\n",
    "        \n",
    "    return user_password"
   ]
  },
  {
   "cell_type": "code",
   "execution_count": 78,
   "id": "cacfe2ce",
   "metadata": {},
   "outputs": [],
   "source": [
    "def input_filter(user_password, key_length):    \n",
    "    ex_df = sql_df['Sentence'] # Getting the sentences as ex data\n",
    "    new_df = pd.DataFrame({'Sentence':[user_password]})\n",
    "    new_df = new_df['Sentence']\n",
    "    combined_df = pd.concat([ex_df, new_df], ignore_index=True)\n",
    "    \n",
    "    # Transforming the password text into a seradmin\n",
    "    prediction = ml_model_predicter([vectorized_values[-1]])\n",
    "    encryptor(prediction, user_name, user_password, key_length)\n",
    "    return prediction"
   ]
  },
  {
   "cell_type": "code",
   "execution_count": null,
   "id": "9e5d062e",
   "metadata": {},
   "outputs": [
    {
     "name": "stdout",
     "output_type": "stream",
     "text": [
      "Enter your username: \n"
     ]
    }
   ],
   "source": [
    "# INPUT FORM\n",
    "# Get password input from user\n",
    "print(\"Enter your username: \")\n",
    "user_name = input()\n",
    "print(\"Enter your password: \")\n",
    "user_password = input()"
   ]
  },
  {
   "cell_type": "code",
   "execution_count": 82,
   "id": "bdf87d2f",
   "metadata": {},
   "outputs": [
    {
     "name": "stdout",
     "output_type": "stream",
     "text": [
      "SQL INJECTION THREAT\n",
      "Threat possibility, encrypting the password\n",
      "Your Key (admin privileges): ShonCRRETKEaAhMha;CASSKnRS SORor\n",
      "Newly encrypted password: 09dj1DEO560oxxWqJusAWQ==CCa4501pwBno26OvKlnhi2BIMk9DgGUHwf7kjXHvJ1TIIjRF4X1UDWRYrHJ/dPYv\n"
     ]
    },
    {
     "data": {
      "text/plain": [
       "1"
      ]
     },
     "execution_count": 82,
     "metadata": {},
     "output_type": "execute_result"
    }
   ],
   "source": [
    "# Set key_length\n",
    "key_length = 32\n",
    "input_filter(user_password, key_length)"
   ]
  },
  {
   "cell_type": "code",
   "execution_count": null,
   "id": "23b72622",
   "metadata": {},
   "outputs": [],
   "source": []
  }
 ],
 "metadata": {
  "kernelspec": {
   "display_name": "Python 3 (ipykernel)",
   "language": "python",
   "name": "python3"
  },
  "language_info": {
   "codemirror_mode": {
    "name": "ipython",
    "version": 3
   },
   "file_extension": ".py",
   "mimetype": "text/x-python",
   "name": "python",
   "nbconvert_exporter": "python",
   "pygments_lexer": "ipython3",
   "version": "3.11.7"
  }
 },
 "nbformat": 4,
 "nbformat_minor": 5
}
